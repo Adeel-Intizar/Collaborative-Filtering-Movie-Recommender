{
 "cells": [
  {
   "cell_type": "code",
   "execution_count": 1,
   "metadata": {
    "executionInfo": {
     "elapsed": 2855,
     "status": "ok",
     "timestamp": 1601711296904,
     "user": {
      "displayName": "Adeel Intizar",
      "photoUrl": "https://lh3.googleusercontent.com/a-/AOh14GiD26MVY4mIcjEVw1H2ZgOMRG7CDiB8egDU3-2g3Q=s64",
      "userId": "11599686048572455421"
     },
     "user_tz": -300
    },
    "id": "A-QEaJBPYzKl"
   },
   "outputs": [],
   "source": [
    "import pandas as pd\n",
    "import numpy as np\n",
    "from zipfile import ZipFile\n",
    "import tensorflow as tf\n",
    "from tensorflow import keras\n",
    "from tensorflow.keras import layers\n",
    "from pathlib import Path\n",
    "import matplotlib.pyplot as plt\n",
    "from tensorflow.keras.callbacks import ReduceLROnPlateau"
   ]
  },
  {
   "cell_type": "markdown",
   "metadata": {
    "id": "-RkAFWTMYzLB"
   },
   "source": [
    "## First, load the data and apply preprocessing\n"
   ]
  },
  {
   "cell_type": "code",
   "execution_count": 2,
   "metadata": {
    "executionInfo": {
     "elapsed": 2848,
     "status": "ok",
     "timestamp": 1601711296918,
     "user": {
      "displayName": "Adeel Intizar",
      "photoUrl": "https://lh3.googleusercontent.com/a-/AOh14GiD26MVY4mIcjEVw1H2ZgOMRG7CDiB8egDU3-2g3Q=s64",
      "userId": "11599686048572455421"
     },
     "user_tz": -300
    },
    "id": "Q3esGaSBYzLD"
   },
   "outputs": [],
   "source": [
    "# Download the actual data from http://files.grouplens.org/datasets/movielens/ml-latest-small.zip\"\n",
    "# Use the ratings.csv file\n",
    "movielens_data_file_url = (\n",
    "    \"http://files.grouplens.org/datasets/movielens/ml-latest-small.zip\"\n",
    ")\n",
    "movielens_zipped_file = keras.utils.get_file(\n",
    "    \"ml-latest-small.zip\", movielens_data_file_url, extract=False\n",
    ")\n",
    "keras_datasets_path = Path(movielens_zipped_file).parents[0]\n",
    "movielens_dir = keras_datasets_path / \"ml-latest-small\"\n",
    "\n",
    "# Only extract the data the first time the script is run.\n",
    "if not movielens_dir.exists():\n",
    "    with ZipFile(movielens_zipped_file, \"r\") as zip:\n",
    "        # Extract files\n",
    "        print(\"Extracting all the files now...\")\n",
    "        zip.extractall(path=keras_datasets_path)\n",
    "        print(\"Done!\")\n",
    "\n",
    "ratings_file = movielens_dir / \"ratings.csv\"\n",
    "df = pd.read_csv(ratings_file)\n"
   ]
  },
  {
   "cell_type": "markdown",
   "metadata": {
    "id": "84tZU7DfYzLU"
   },
   "source": [
    "First, need to perform some preprocessing to encode users and movies as integer indices.\n"
   ]
  },
  {
   "cell_type": "code",
   "execution_count": 3,
   "metadata": {
    "colab": {
     "base_uri": "https://localhost:8080/",
     "height": 35
    },
    "executionInfo": {
     "elapsed": 2832,
     "status": "ok",
     "timestamp": 1601711296923,
     "user": {
      "displayName": "Adeel Intizar",
      "photoUrl": "https://lh3.googleusercontent.com/a-/AOh14GiD26MVY4mIcjEVw1H2ZgOMRG7CDiB8egDU3-2g3Q=s64",
      "userId": "11599686048572455421"
     },
     "user_tz": -300
    },
    "id": "kEkxtJZtYzLY",
    "outputId": "c28e04b4-0e1a-40f3-a5ee-0756dab7fac2"
   },
   "outputs": [
    {
     "name": "stdout",
     "output_type": "stream",
     "text": [
      "Number of users: 610, Number of Movies: 9724, Min rating: 0.5, Max rating: 5.0\n"
     ]
    }
   ],
   "source": [
    "user_ids = df[\"userId\"].unique().tolist()\n",
    "user2user_encoded = {x: i for i, x in enumerate(user_ids)}\n",
    "userencoded2user = {i: x for i, x in enumerate(user_ids)}\n",
    "movie_ids = df[\"movieId\"].unique().tolist()\n",
    "movie2movie_encoded = {x: i for i, x in enumerate(movie_ids)}\n",
    "movie_encoded2movie = {i: x for i, x in enumerate(movie_ids)}\n",
    "df[\"user\"] = df[\"userId\"].map(user2user_encoded)\n",
    "df[\"movie\"] = df[\"movieId\"].map(movie2movie_encoded)\n",
    "\n",
    "num_users = len(user2user_encoded)\n",
    "num_movies = len(movie_encoded2movie)\n",
    "df[\"rating\"] = df[\"rating\"].values.astype(np.float32)\n",
    "# min and max ratings will be used to normalize the ratings later\n",
    "min_rating = min(df[\"rating\"])\n",
    "max_rating = max(df[\"rating\"])\n",
    "\n",
    "print(\n",
    "    \"Number of users: {}, Number of Movies: {}, Min rating: {}, Max rating: {}\".format(\n",
    "        num_users, num_movies, min_rating, max_rating\n",
    "    )\n",
    ")\n"
   ]
  },
  {
   "cell_type": "markdown",
   "metadata": {
    "id": "AnlVIuZEYzLl"
   },
   "source": [
    "## Prepare training and validation data\n"
   ]
  },
  {
   "cell_type": "code",
   "execution_count": 4,
   "metadata": {
    "executionInfo": {
     "elapsed": 2822,
     "status": "ok",
     "timestamp": 1601711296925,
     "user": {
      "displayName": "Adeel Intizar",
      "photoUrl": "https://lh3.googleusercontent.com/a-/AOh14GiD26MVY4mIcjEVw1H2ZgOMRG7CDiB8egDU3-2g3Q=s64",
      "userId": "11599686048572455421"
     },
     "user_tz": -300
    },
    "id": "sdy7TywbYzLp"
   },
   "outputs": [],
   "source": [
    "df = df.sample(frac=1, random_state=42)\n",
    "x = df[[\"user\", \"movie\"]].values\n",
    "# Normalize the targets between 0 and 1. Makes it easy to train.\n",
    "y = df[\"rating\"].apply(lambda x: (x - min_rating) / (max_rating - min_rating)).values\n",
    "# Assuming training on 90% of the data and validating on 10%.\n",
    "train_indices = int(0.9 * df.shape[0])\n",
    "x_train, x_val, y_train, y_val = (\n",
    "    x[:train_indices],\n",
    "    x[train_indices:],\n",
    "    y[:train_indices],\n",
    "    y[train_indices:],)\n"
   ]
  },
  {
   "cell_type": "code",
   "execution_count": 5,
   "metadata": {
    "executionInfo": {
     "elapsed": 2813,
     "status": "ok",
     "timestamp": 1601711296928,
     "user": {
      "displayName": "Adeel Intizar",
      "photoUrl": "https://lh3.googleusercontent.com/a-/AOh14GiD26MVY4mIcjEVw1H2ZgOMRG7CDiB8egDU3-2g3Q=s64",
      "userId": "11599686048572455421"
     },
     "user_tz": -300
    },
    "id": "bzaHSMUiYzL5"
   },
   "outputs": [],
   "source": [
    "EMBEDDING_SIZE = 50\n",
    "\n",
    "\n",
    "class RecommenderNet(keras.Model):\n",
    "    def __init__(self, num_users, num_movies, embedding_size, **kwargs):\n",
    "        super(RecommenderNet, self).__init__(**kwargs)\n",
    "        self.num_users = num_users\n",
    "        self.num_movies = num_movies\n",
    "        self.embedding_size = embedding_size\n",
    "        self.user_embedding = layers.Embedding(\n",
    "            num_users,\n",
    "            embedding_size,\n",
    "            embeddings_initializer=\"he_normal\",\n",
    "            embeddings_regularizer=keras.regularizers.l2(1e-6),\n",
    "        )\n",
    "        self.user_bias = layers.Embedding(num_users, 1)\n",
    "        self.movie_embedding = layers.Embedding(\n",
    "            num_movies,\n",
    "            embedding_size,\n",
    "            embeddings_initializer=\"he_normal\",\n",
    "            embeddings_regularizer=keras.regularizers.l2(1e-6),\n",
    "        )\n",
    "        self.movie_bias = layers.Embedding(num_movies, 1)\n",
    "\n",
    "    def call(self, inputs):\n",
    "        user_vector = self.user_embedding(inputs[:, 0])\n",
    "        user_bias = self.user_bias(inputs[:, 0])\n",
    "        movie_vector = self.movie_embedding(inputs[:, 1])\n",
    "        movie_bias = self.movie_bias(inputs[:, 1])\n",
    "        dot_user_movie = tf.tensordot(user_vector, movie_vector, 2)\n",
    "        # Add all the components (including bias)\n",
    "        x = dot_user_movie + user_bias + movie_bias\n",
    "        # The sigmoid activation forces the rating to between 0 and 1\n",
    "        return tf.nn.sigmoid(x)\n",
    "\n",
    "\n",
    "model = RecommenderNet(num_users, num_movies, EMBEDDING_SIZE)\n",
    "\n",
    "lr = ReduceLROnPlateau(patience=4, verbose=1, min_lr=0.000001)\n",
    "\n",
    "model.compile(\n",
    "    loss=tf.keras.losses.BinaryCrossentropy(), optimizer=keras.optimizers.Adam(lr=0.001)\n",
    ")\n"
   ]
  },
  {
   "cell_type": "markdown",
   "metadata": {
    "id": "mjBiem3xYzMK"
   },
   "source": [
    "## Train the model based on the data split\n"
   ]
  },
  {
   "cell_type": "code",
   "execution_count": 6,
   "metadata": {
    "colab": {
     "base_uri": "https://localhost:8080/",
     "height": 605
    },
    "executionInfo": {
     "elapsed": 88083,
     "status": "ok",
     "timestamp": 1601711382215,
     "user": {
      "displayName": "Adeel Intizar",
      "photoUrl": "https://lh3.googleusercontent.com/a-/AOh14GiD26MVY4mIcjEVw1H2ZgOMRG7CDiB8egDU3-2g3Q=s64",
      "userId": "11599686048572455421"
     },
     "user_tz": -300
    },
    "id": "MrCP_JB2YzMN",
    "outputId": "95320310-c9d0-4b84-d187-29cc1458cf44"
   },
   "outputs": [
    {
     "name": "stdout",
     "output_type": "stream",
     "text": [
      "Epoch 1/15\n",
      "1418/1418 [==============================] - 6s 4ms/step - loss: 0.6368 - val_loss: 0.6203\n",
      "Epoch 2/15\n",
      "1418/1418 [==============================] - 6s 4ms/step - loss: 0.6131 - val_loss: 0.6183\n",
      "Epoch 3/15\n",
      "1418/1418 [==============================] - 6s 4ms/step - loss: 0.6079 - val_loss: 0.6130\n",
      "Epoch 4/15\n",
      "1418/1418 [==============================] - 6s 4ms/step - loss: 0.6074 - val_loss: 0.6127\n",
      "Epoch 5/15\n",
      "1418/1418 [==============================] - 6s 4ms/step - loss: 0.6077 - val_loss: 0.6138\n",
      "Epoch 6/15\n",
      "1418/1418 [==============================] - 6s 4ms/step - loss: 0.6070 - val_loss: 0.6142\n",
      "Epoch 7/15\n",
      "1418/1418 [==============================] - 6s 4ms/step - loss: 0.6061 - val_loss: 0.6140\n",
      "Epoch 8/15\n",
      "1409/1418 [============================>.] - ETA: 0s - loss: 0.6047\n",
      "Epoch 00008: ReduceLROnPlateau reducing learning rate to 0.00010000000474974513.\n",
      "1418/1418 [==============================] - 6s 4ms/step - loss: 0.6047 - val_loss: 0.6143\n",
      "Epoch 9/15\n",
      "1418/1418 [==============================] - 6s 4ms/step - loss: 0.6067 - val_loss: 0.6133\n",
      "Epoch 10/15\n",
      "1418/1418 [==============================] - 6s 4ms/step - loss: 0.6051 - val_loss: 0.6128\n",
      "Epoch 11/15\n",
      "1418/1418 [==============================] - 6s 4ms/step - loss: 0.6041 - val_loss: 0.6122\n",
      "Epoch 12/15\n",
      "1418/1418 [==============================] - 6s 4ms/step - loss: 0.6031 - val_loss: 0.6117\n",
      "Epoch 13/15\n",
      "1418/1418 [==============================] - 5s 4ms/step - loss: 0.6017 - val_loss: 0.6113\n",
      "Epoch 14/15\n",
      "1418/1418 [==============================] - 5s 4ms/step - loss: 0.6014 - val_loss: 0.6110\n",
      "Epoch 15/15\n",
      "1418/1418 [==============================] - 6s 4ms/step - loss: 0.6001 - val_loss: 0.6106\n"
     ]
    }
   ],
   "source": [
    "history = model.fit(\n",
    "    x=x_train,\n",
    "    y=y_train,\n",
    "    batch_size=64,\n",
    "    epochs=15,\n",
    "    verbose=1,\n",
    "    validation_data=(x_val, y_val),\n",
    "    callbacks = [lr])\n"
   ]
  },
  {
   "cell_type": "markdown",
   "metadata": {
    "id": "zUlFejy1YzMX"
   },
   "source": [
    "## Plot training and validation loss\n"
   ]
  },
  {
   "cell_type": "code",
   "execution_count": 7,
   "metadata": {
    "colab": {
     "base_uri": "https://localhost:8080/",
     "height": 295
    },
    "executionInfo": {
     "elapsed": 88785,
     "status": "ok",
     "timestamp": 1601711382939,
     "user": {
      "displayName": "Adeel Intizar",
      "photoUrl": "https://lh3.googleusercontent.com/a-/AOh14GiD26MVY4mIcjEVw1H2ZgOMRG7CDiB8egDU3-2g3Q=s64",
      "userId": "11599686048572455421"
     },
     "user_tz": -300
    },
    "id": "9VUpPoDnYzMZ",
    "outputId": "6e5edd61-d675-49de-ebf5-64c69e785efe"
   },
   "outputs": [
    {
     "data": {
      "image/png": "[encoded data removed]",
      "text/plain": [
       "<Figure size 432x288 with 1 Axes>"
      ]
     },
     "metadata": {
      "needs_background": "light",
      "tags": []
     },
     "output_type": "display_data"
    }
   ],
   "source": [
    "plt.plot(history.history[\"loss\"])\n",
    "plt.plot(history.history[\"val_loss\"])\n",
    "plt.title(\"model loss\")\n",
    "plt.ylabel(\"loss\")\n",
    "plt.xlabel(\"epoch\")\n",
    "plt.legend([\"train\", \"test\"], loc=\"upper left\")\n",
    "plt.show()\n"
   ]
  },
  {
   "cell_type": "markdown",
   "metadata": {
    "id": "fbZKcrDOYzMm"
   },
   "source": [
    "## Show top 10 movie recommendations to a user\n"
   ]
  },
  {
   "cell_type": "code",
   "execution_count": 8,
   "metadata": {
    "colab": {
     "base_uri": "https://localhost:8080/",
     "height": 421
    },
    "executionInfo": {
     "elapsed": 88774,
     "status": "ok",
     "timestamp": 1601711382945,
     "user": {
      "displayName": "Adeel Intizar",
      "photoUrl": "https://lh3.googleusercontent.com/a-/AOh14GiD26MVY4mIcjEVw1H2ZgOMRG7CDiB8egDU3-2g3Q=s64",
      "userId": "11599686048572455421"
     },
     "user_tz": -300
    },
    "id": "P3d-FxpxYzMo",
    "outputId": "43049183-351f-4725-e673-5c3ee74b4425",
    "scrolled": true
   },
   "outputs": [
    {
     "name": "stdout",
     "output_type": "stream",
     "text": [
      "Showing recommendations for user: 372\n",
      "====================================\n",
      "Movies with high ratings from user\n",
      "--------------------------------\n",
      "Heat (1995) : Action|Crime|Thriller\n",
      "Fugitive, The (1993) : Thriller\n",
      "Raiders of the Lost Ark (Indiana Jones and the Raiders of the Lost Ark) (1981) : Action|Adventure\n",
      "Star Wars: Episode VI - Return of the Jedi (1983) : Action|Adventure|Sci-Fi\n",
      "Godfather: Part II, The (1974) : Crime|Drama\n",
      "--------------------------------\n",
      "Top 10 movie recommendations\n",
      "--------------------------------\n",
      "City of Lost Children, The (Cité des enfants perdus, La) (1995) : Adventure|Drama|Fantasy|Mystery|Sci-Fi\n",
      "Ghost in the Shell (Kôkaku kidôtai) (1995) : Animation|Sci-Fi\n",
      "Dr. Strangelove or: How I Learned to Stop Worrying and Love the Bomb (1964) : Comedy|War\n",
      "Dial M for Murder (1954) : Crime|Mystery|Thriller\n",
      "Good Will Hunting (1997) : Drama|Romance\n",
      "Rosemary's Baby (1968) : Drama|Horror|Thriller\n",
      "American History X (1998) : Crime|Drama\n",
      "Fight Club (1999) : Action|Crime|Drama|Thriller\n",
      "Boondock Saints, The (2000) : Action|Crime|Drama|Thriller\n",
      "Departed, The (2006) : Crime|Drama|Thriller\n"
     ]
    }
   ],
   "source": [
    "movie_df = pd.read_csv(movielens_dir / \"movies.csv\")\n",
    "\n",
    "# Let us get a user and see the top recommendations.\n",
    "user_id = df.userId.sample(1).iloc[0]\n",
    "movies_watched_by_user = df[df.userId == user_id]\n",
    "movies_not_watched = movie_df[\n",
    "    ~movie_df[\"movieId\"].isin(movies_watched_by_user.movieId.values)\n",
    "][\"movieId\"]\n",
    "movies_not_watched = list(\n",
    "    set(movies_not_watched).intersection(set(movie2movie_encoded.keys()))\n",
    ")\n",
    "movies_not_watched = [[movie2movie_encoded.get(x)] for x in movies_not_watched]\n",
    "user_encoder = user2user_encoded.get(user_id)\n",
    "user_movie_array = np.hstack(\n",
    "    ([[user_encoder]] * len(movies_not_watched), movies_not_watched)\n",
    ")\n",
    "ratings = model.predict(user_movie_array).flatten()\n",
    "top_ratings_indices = ratings.argsort()[-10:][::-1]\n",
    "recommended_movie_ids = [\n",
    "    movie_encoded2movie.get(movies_not_watched[x][0]) for x in top_ratings_indices\n",
    "]\n",
    "\n",
    "print(\"Showing recommendations for user: {}\".format(user_id))\n",
    "print(\"====\" * 9)\n",
    "print(\"Movies with high ratings from user\")\n",
    "print(\"----\" * 8)\n",
    "top_movies_user = (\n",
    "    movies_watched_by_user.sort_values(by=\"rating\", ascending=False)\n",
    "    .head(5)\n",
    "    .movieId.values\n",
    ")\n",
    "movie_df_rows = movie_df[movie_df[\"movieId\"].isin(top_movies_user)]\n",
    "for row in movie_df_rows.itertuples():\n",
    "    print(row.title, \":\", row.genres)\n",
    "\n",
    "print(\"----\" * 8)\n",
    "print(\"Top 10 movie recommendations\")\n",
    "print(\"----\" * 8)\n",
    "recommended_movies = movie_df[movie_df[\"movieId\"].isin(recommended_movie_ids)]\n",
    "for row in recommended_movies.itertuples():\n",
    "    print(row.title, \":\", row.genres)\n"
   ]
  }
 ],
 "metadata": {
  "colab": {
   "collapsed_sections": [],
   "name": "collaborative_filtering_movielens",
   "provenance": [
    {
     "file_id": "https://github.com/keras-team/keras-io/blob/master/examples/structured_data/ipynb/collaborative_filtering_movielens.ipynb",
     "timestamp": 1601710549608
    }
   ]
  },
  "kernelspec": {
   "display_name": "Python 3",
   "language": "python",
   "name": "python3"
  },
  "language_info": {
   "codemirror_mode": {
    "name": "ipython",
    "version": 3
   },
   "file_extension": ".py",
   "mimetype": "text/x-python",
   "name": "python",
   "nbconvert_exporter": "python",
   "pygments_lexer": "ipython3",
   "version": "3.7.4"
  }
 },
 "nbformat": 4,
 "nbformat_minor": 1
}
